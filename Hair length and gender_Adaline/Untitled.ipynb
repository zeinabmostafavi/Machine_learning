{
 "cells": [
  {
   "cell_type": "code",
   "execution_count": 39,
   "id": "51c094da-93d7-452c-a931-220ddcab4e4c",
   "metadata": {},
   "outputs": [],
   "source": [
    "import pandas as pd\n",
    "import matplotlib.pyplot as plt\n",
    "import numpy as np\n",
    "import random\n",
    "from numpy.linalg import inv"
   ]
  },
  {
   "cell_type": "code",
   "execution_count": 40,
   "id": "0676f371-31b4-4615-a696-2e1263955c86",
   "metadata": {},
   "outputs": [
    {
     "data": {
      "text/plain": [
       "<matplotlib.legend.Legend at 0x2a204c03c48>"
      ]
     },
     "execution_count": 40,
     "metadata": {},
     "output_type": "execute_result"
    },
    {
     "data": {
      "image/png": "[encoded data removed]",
      "text/plain": [
       "<Figure size 432x288 with 1 Axes>"
      ]
     },
     "metadata": {
      "needs_background": "light"
     },
     "output_type": "display_data"
    }
   ],
   "source": [
    "std=2\n",
    "n=200\n",
    "hairLength_man=np.random.normal(20,std,n)\n",
    "hairLength_woman=np.random.normal(80,std,n)\n",
    "\n",
    "man_label = np.zeros(n, dtype='int')\n",
    "woman_label = np.ones(n, dtype='int')\n",
    "X = np.concatenate((hairLength_man, hairLength_woman))\n",
    "Y = np.concatenate((man_label, woman_label))\n",
    "plt.scatter(X[0:n], Y[0:n], c='blue', label='Man')\n",
    "plt.scatter(X[n:2*n], Y[n:2*n], c='red', label='Woman')\n",
    "plt.legend()"
   ]
  },
  {
   "cell_type": "code",
   "execution_count": 41,
   "id": "6adf3b8e-6099-488f-afb9-11000c8b4e9b",
   "metadata": {},
   "outputs": [],
   "source": [
    "Y = Y.reshape(400,1)\n",
    "X = X.reshape(400,1)"
   ]
  },
  {
   "cell_type": "code",
   "execution_count": 42,
   "id": "27ad3cd8-6d45-4eaf-af56-7d140e921578",
   "metadata": {},
   "outputs": [
    {
     "data": {
      "text/plain": [
       "[<matplotlib.lines.Line2D at 0x2a27f33f2c8>]"
      ]
     },
     "execution_count": 42,
     "metadata": {},
     "output_type": "execute_result"
    },
    {
     "data": {
      "image/png": "[encoded data removed]",
      "text/plain": [
       "<Figure size 432x288 with 1 Axes>"
      ]
     },
     "metadata": {
      "needs_background": "light"
     },
     "output_type": "display_data"
    }
   ],
   "source": [
    "m = np.matmul(inv(np.matmul(X.T, X)), np.matmul(X.T, Y))\n",
    "Y_pred = np.matmul(X, m)\n",
    "plt.scatter(X[0:n], Y[0:n], c='blue', label='Man')\n",
    "plt.scatter(X[n:2*n], Y[n:2*n], c='red', label='Woman')\n",
    "plt.plot(X, Y_pred, c='green', lw = 2)"
   ]
  },
  {
   "cell_type": "code",
   "execution_count": null,
   "id": "5bfc41e7-5faa-4cbd-b7d5-21d2b6b52a3f",
   "metadata": {},
   "outputs": [],
   "source": []
  }
 ],
 "metadata": {
  "kernelspec": {
   "display_name": "Python 3",
   "language": "python",
   "name": "python3"
  },
  "language_info": {
   "codemirror_mode": {
    "name": "ipython",
    "version": 3
   },
   "file_extension": ".py",
   "mimetype": "text/x-python",
   "name": "python",
   "nbconvert_exporter": "python",
   "pygments_lexer": "ipython3",
   "version": "3.7.9"
  }
 },
 "nbformat": 4,
 "nbformat_minor": 5
}
