{
 "cells": [
  {
   "cell_type": "code",
   "execution_count": 20,
   "id": "98306d32-0b2c-4243-b315-9f6e567af95b",
   "metadata": {},
   "outputs": [],
   "source": [
    "import pandas as pd\n",
    "import numpy as np\n",
    "import matplotlib.pyplot as plt\n",
    "import time\n",
    "import sklearn\n",
    "from sklearn.neighbors import KNeighborsClassifier"
   ]
  },
  {
   "cell_type": "code",
   "execution_count": 58,
   "id": "bc7c5700-0977-4ca9-a7dd-dfe1dc20616f",
   "metadata": {},
   "outputs": [],
   "source": [
    "N = 100\n",
    "std = 0.5\n",
    "\n",
    "# train data\n",
    "banana_width = np.random.normal(4, std, N)\n",
    "banana_length = np.random.normal(8, std, N)\n",
    "\n",
    "apple_width = np.random.normal(6, std, N)\n",
    "apple_length = np.random.normal(6, std+0.1, N)\n",
    "\n",
    "width = np.concatenate((banana_width, apple_width))\n",
    "length = np.concatenate((banana_length, apple_length))\n",
    "\n",
    "\n",
    "banana_label = np.zeros(N, dtype='int')\n",
    "apple_label = np.ones(N, dtype='int')\n",
    "\n",
    "X = np.array([width, length]).T\n",
    "Y = np.concatenate((banana_label, apple_label))\n",
    "\n",
    "#test data\n",
    "test_banana_width = np.random.normal(4, std, 100)\n",
    "test_banana_length = np.random.normal(8, std, 100)\n",
    "\n",
    "test_apple_width = np.random.normal(6, std, 100)\n",
    "test_apple_length = np.random.normal(6, std+0.1, 100)\n",
    "\n",
    "test_width = np.concatenate((test_banana_width, test_apple_width))\n",
    "test_length = np.concatenate((test_banana_length, test_apple_length))\n",
    "\n",
    "\n",
    "test_banana_label = np.zeros(100, dtype='int')\n",
    "test_apple_label = np.ones(100, dtype='int')\n",
    "\n",
    "X_test = np.array([test_width, test_length]).T\n",
    "Y_test = np.concatenate((test_banana_label, test_apple_label))"
   ]
  },
  {
   "cell_type": "code",
   "execution_count": 61,
   "id": "e4538bba-fe86-43e4-ac9d-1397b2bc4643",
   "metadata": {},
   "outputs": [
    {
     "data": {
      "text/plain": [
       "Text(0, 0.5, 'Width')"
      ]
     },
     "execution_count": 61,
     "metadata": {},
     "output_type": "execute_result"
    },
    {
     "data": {
      "image/png": "[encoded data removed]",
      "text/plain": [
       "<Figure size 432x432 with 1 Axes>"
      ]
     },
     "metadata": {
      "needs_background": "light"
     },
     "output_type": "display_data"
    }
   ],
   "source": [
    "plt.figure(figsize = (6, 6))\n",
    "\n",
    "plt.scatter(X[0:N, 1], X[0:N, 0], c='yellow', label='banana')\n",
    "plt.scatter(X[N:2*N, 1], X[N:2*N, 0], c='green', label='apple')\n",
    "\n",
    "plt.xlabel('Length')\n",
    "plt.ylabel('Width')"
   ]
  },
  {
   "cell_type": "code",
   "execution_count": 62,
   "id": "3251e3ee-4474-4f87-950e-19313f75e48d",
   "metadata": {},
   "outputs": [],
   "source": [
    "class KNearestNeighbors:\n",
    "    def __init__(self, k):\n",
    "        self.k = k\n",
    "        \n",
    "    #train\n",
    "    def fit(self, X_train, Y_train):\n",
    "        self.X_train = X_train\n",
    "        self.Y_train = Y_train\n",
    "        self.number_class = len(np.unique(Y_train))\n",
    "        \n",
    "    def nearestNeighbors(self, X_test):\n",
    "        distance = np.sqrt(np.sum((X_test - self.X_train)**2, axis = 1))\n",
    "        near_neighbor = np.argsort(distance)[0:self.k]\n",
    "        return near_neighbor\n",
    "    \n",
    "    #test\n",
    "    def predict(self, X_test):\n",
    "        near_neighbor = self.nearestNeighbors(X_test)\n",
    "        y = np.argmax(np.bincount(self.Y_train[near_neighbor]))\n",
    "        return y\n",
    "    \n",
    "    def evaluate(self, x_test, y_test):\n",
    "        y_pred = []\n",
    "        for i in range(len(x_test)):\n",
    "          y = knn.predict(x_test[i])\n",
    "          y_pred.append(y)\n",
    "        not_correct = abs(sum(y_pred - y_test))\n",
    "        print((((len(y_pred) - not_correct)*100)/len(y_pred))/100)\n",
    "        print(y_pred)\n",
    "        print('***********************************')\n",
    "        print(y_test)"
   ]
  },
  {
   "cell_type": "code",
   "execution_count": 79,
   "id": "36766266-5267-4954-aa1a-c7dd3704b66b",
   "metadata": {},
   "outputs": [
    {
     "name": "stdout",
     "output_type": "stream",
     "text": [
      "0.995\n",
      "[0, 0, 0, 0, 0, 0, 0, 0, 0, 0, 0, 0, 0, 0, 0, 0, 0, 0, 0, 0, 0, 0, 0, 0, 0, 0, 0, 0, 0, 0, 0, 0, 0, 0, 0, 0, 0, 0, 0, 0, 0, 0, 0, 0, 0, 0, 0, 0, 0, 0, 0, 0, 0, 0, 0, 0, 0, 0, 0, 0, 0, 0, 0, 0, 0, 0, 0, 0, 0, 0, 0, 0, 0, 0, 0, 0, 0, 0, 0, 0, 0, 0, 0, 0, 0, 0, 0, 0, 0, 0, 0, 0, 0, 0, 0, 0, 0, 0, 0, 0, 1, 1, 1, 1, 1, 1, 1, 1, 1, 1, 1, 1, 1, 1, 1, 1, 1, 1, 1, 1, 1, 1, 1, 1, 1, 1, 1, 1, 1, 1, 1, 1, 1, 1, 1, 1, 1, 1, 1, 1, 1, 1, 1, 1, 1, 1, 1, 1, 1, 1, 1, 1, 1, 1, 1, 1, 1, 1, 1, 1, 1, 1, 1, 1, 1, 1, 1, 1, 1, 1, 1, 1, 1, 1, 1, 1, 1, 1, 1, 1, 1, 1, 1, 0, 1, 1, 1, 1, 1, 1, 1, 1, 1, 1, 1, 1, 1, 1, 1, 1]\n",
      "***********************************\n",
      "[0 0 0 0 0 0 0 0 0 0 0 0 0 0 0 0 0 0 0 0 0 0 0 0 0 0 0 0 0 0 0 0 0 0 0 0 0\n",
      " 0 0 0 0 0 0 0 0 0 0 0 0 0 0 0 0 0 0 0 0 0 0 0 0 0 0 0 0 0 0 0 0 0 0 0 0 0\n",
      " 0 0 0 0 0 0 0 0 0 0 0 0 0 0 0 0 0 0 0 0 0 0 0 0 0 0 1 1 1 1 1 1 1 1 1 1 1\n",
      " 1 1 1 1 1 1 1 1 1 1 1 1 1 1 1 1 1 1 1 1 1 1 1 1 1 1 1 1 1 1 1 1 1 1 1 1 1\n",
      " 1 1 1 1 1 1 1 1 1 1 1 1 1 1 1 1 1 1 1 1 1 1 1 1 1 1 1 1 1 1 1 1 1 1 1 1 1\n",
      " 1 1 1 1 1 1 1 1 1 1 1 1 1 1 1]\n"
     ]
    }
   ],
   "source": [
    "fruits = { 0: 'موز',\n",
    "          1: 'سیب'}\n",
    "\n",
    "knn = KNearestNeighbors(5)\n",
    "knn.fit(X, Y)\n",
    "knn.evaluate(X_test, Y_test)\n"
   ]
  },
  {
   "cell_type": "code",
   "execution_count": 76,
   "id": "b8446686-7c67-45bd-ae7c-684f6e82f94f",
   "metadata": {},
   "outputs": [
    {
     "data": {
      "text/plain": [
       "0.995"
      ]
     },
     "execution_count": 76,
     "metadata": {},
     "output_type": "execute_result"
    }
   ],
   "source": [
    "knc = KNeighborsClassifier(5)\n",
    "knc.fit(X, Y)\n",
    "score = knc.score(X_test, Y_test)\n",
    "score"
   ]
  },
  {
   "cell_type": "code",
   "execution_count": null,
   "id": "b1889405-2c12-4120-a231-4109a499197e",
   "metadata": {},
   "outputs": [],
   "source": []
  },
  {
   "cell_type": "code",
   "execution_count": null,
   "id": "9a5b4b30-3b90-4320-8ec1-3949783b1bbb",
   "metadata": {},
   "outputs": [],
   "source": []
  },
  {
   "cell_type": "code",
   "execution_count": null,
   "id": "283cf3c7-b708-4462-ad63-36ddf57a2012",
   "metadata": {},
   "outputs": [],
   "source": []
  }
 ],
 "metadata": {
  "kernelspec": {
   "display_name": "Python 3",
   "language": "python",
   "name": "python3"
  },
  "language_info": {
   "codemirror_mode": {
    "name": "ipython",
    "version": 3
   },
   "file_extension": ".py",
   "mimetype": "text/x-python",
   "name": "python",
   "nbconvert_exporter": "python",
   "pygments_lexer": "ipython3",
   "version": "3.7.9"
  }
 },
 "nbformat": 4,
 "nbformat_minor": 5
}
