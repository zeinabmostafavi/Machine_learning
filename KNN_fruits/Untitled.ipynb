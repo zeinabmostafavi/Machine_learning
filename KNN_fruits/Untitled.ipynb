{
 "cells": [
  {
   "cell_type": "code",
   "execution_count": 157,
   "id": "98306d32-0b2c-4243-b315-9f6e567af95b",
   "metadata": {},
   "outputs": [],
   "source": [
    "import pandas as pd\n",
    "import numpy as np\n",
    "import matplotlib.pyplot as plt\n",
    "import time"
   ]
  },
  {
   "cell_type": "code",
   "execution_count": 158,
   "id": "bc7c5700-0977-4ca9-a7dd-dfe1dc20616f",
   "metadata": {},
   "outputs": [],
   "source": [
    "# banana = 0\n",
    "# apple = 1\n",
    "\n",
    "def generate_data(N):\n",
    "    std = 0.8\n",
    "\n",
    "    bananas_width = np.random.normal(4, std, N)\n",
    "    bananas_length = np.random.normal(8, std, N)\n",
    "\n",
    "    apples_width = np.random.normal(6, std, N)\n",
    "    apples_length = np.random.normal(6, std, N)\n",
    "\n",
    "    width = np.concatenate((bananas_width, apples_width))\n",
    "    length = np.concatenate((bananas_length, apples_length))\n",
    "\n",
    "    X = np.array([width, length]).T\n",
    "\n",
    "    bananas_label = np.zeros(N, dtype='int')\n",
    "    apples_label = np.ones(N, dtype='int')\n",
    "\n",
    "    Y = np.concatenate((bananas_label, apples_label))\n",
    "\n",
    "    mu = np.mean(X, 0)\n",
    "    sigma = np.std(X, 0)\n",
    "    X = (X - mu ) / sigma\n",
    "    \n",
    "    return X, Y"
   ]
  },
  {
   "cell_type": "code",
   "execution_count": 159,
   "id": "f016ab29-d5db-4ffd-80f9-c19bb803ccf0",
   "metadata": {},
   "outputs": [
    {
     "data": {
      "text/plain": [
       "<matplotlib.legend.Legend at 0x168bfb73688>"
      ]
     },
     "execution_count": 159,
     "metadata": {},
     "output_type": "execute_result"
    },
    {
     "data": {
      "image/png": "[encoded data removed]",
      "text/plain": [
       "<Figure size 432x288 with 1 Axes>"
      ]
     },
     "metadata": {
      "needs_background": "light"
     },
     "output_type": "display_data"
    }
   ],
   "source": [
    "plt.xlabel('Length')\n",
    "plt.ylabel('Width')\n",
    "\n",
    "plt.scatter(X[:n, 0], X[:n, 1], c='red', marker='o', label='apple')\n",
    "plt.scatter(X[n:, 0], X[n:, 1], c='orange', marker='o', label='banana')\n",
    "plt.title('Apples and bBananas')\n",
    "plt.legend()"
   ]
  },
  {
   "cell_type": "code",
   "execution_count": 160,
   "id": "3251e3ee-4474-4f87-950e-19313f75e48d",
   "metadata": {},
   "outputs": [],
   "source": [
    "class KNearestNeighbors:\n",
    "    def __init__(self, k):\n",
    "        self.k = k\n",
    "    \n",
    "    # train\n",
    "    def fit(self, X_train, y_train):\n",
    "        self.X_train = X_train\n",
    "        self.y_train = y_train\n",
    "        self.number_classes = len(np.unique(y_train))\n",
    "        \n",
    "    def euclidianDistance(self, a, b):\n",
    "        return np.sqrt(np.sum((a - b)**2, axis=1))\n",
    "\n",
    "    def nearNeighbors(self, X_test):\n",
    "        point_dist = []\n",
    "        for x_test in X_test:\n",
    "            point_dist.append(self.euclidianDistance(x_test, self.X_train))\n",
    "\n",
    "        neigh_ind = []\n",
    "        for row in point_dist:\n",
    "            near_neighbors = np.argsort(row)[:self.k]\n",
    "            neigh_ind.append(near_neighbors)\n",
    "\n",
    "        return np.array(neigh_ind)\n",
    "    \n",
    "    # test\n",
    "    def predict(self, X_test):\n",
    "        neighbors = self.nearNeighbors(X_test)\n",
    "        y_pred = []\n",
    "        for neighbor in neighbors:\n",
    "            y_pred.append(np.argmax(np.bincount(self.y_train[neighbor])))\n",
    "        return np.array(y_pred)\n",
    "    \n",
    "    def evaluate(self, X_test, y_test):\n",
    "        y_pred = self.predict(X_test)\n",
    "        evaluatation = (y_pred == y_test).sum() / len(y_test)\n",
    "        return evaluatation"
   ]
  },
  {
   "cell_type": "code",
   "execution_count": 161,
   "id": "c2af7c7b-b5ff-44a8-98a7-0e90e658ea93",
   "metadata": {},
   "outputs": [],
   "source": [
    "N = 100\n",
    "X_train, y_train = generate_data(N)\n"
   ]
  },
  {
   "cell_type": "code",
   "execution_count": 162,
   "id": "36766266-5267-4954-aa1a-c7dd3704b66b",
   "metadata": {},
   "outputs": [],
   "source": [
    "knn = KNearestNeighbors(k=5)\n",
    "knn.fit(X_train, y_train)\n",
    "N = 200\n",
    "X_test, y_test = generate_data(N)"
   ]
  },
  {
   "cell_type": "code",
   "execution_count": 163,
   "id": "b8446686-7c67-45bd-ae7c-684f6e82f94f",
   "metadata": {},
   "outputs": [
    {
     "data": {
      "text/plain": [
       "0.93"
      ]
     },
     "execution_count": 163,
     "metadata": {},
     "output_type": "execute_result"
    }
   ],
   "source": [
    "knn.evaluate(X_test, y_test)"
   ]
  },
  {
   "cell_type": "code",
   "execution_count": 164,
   "id": "777ebc3c-6570-4536-8080-89bac1fd2ef3",
   "metadata": {},
   "outputs": [
    {
     "name": "stdout",
     "output_type": "stream",
     "text": [
      "[0 1 0 0 0 0 0 1 0 0 0 0 0 0 0 0 0 0 0 0 0 1 0 0 0 0 0 0 0 0 1 0 0 0 0 0 0\n",
      " 0 0 0 0 0 0 0 0 0 0 0 0 1 0 0 0 0 0 0 0 0 1 1 0 0 0 0 0 0 0 0 0 0 1 0 0 0\n",
      " 0 0 0 0 0 0 0 0 0 0 0 0 0 0 0 0 0 0 1 0 0 0 0 0 0 1 0 0 0 0 0 0 0 0 0 0 0\n",
      " 0 0 0 0 0 0 0 0 0 0 0 0 0 1 0 1 0 0 0 0 0 0 0 0 0 0 0 0 0 0 0 1 0 0 0 0 0\n",
      " 0 0 0 0 0 1 1 0 0 0 0 0 0 0 0 0 0 0 0 0 0 0 0 0 0 0 0 0 0 0 0 0 0 0 0 0 0\n",
      " 0 1 0 1 1 0 0 0 0 0 0 0 0 0 0 1 1 1 1 0 1 1 1 1 1 1 1 1 1 1 1 1 1 1 1 1 1\n",
      " 1 1 1 1 1 1 1 1 1 1 1 1 1 1 1 1 1 1 0 1 1 1 1 1 1 1 1 1 1 1 1 1 1 1 1 1 0\n",
      " 1 1 1 1 1 1 1 1 1 1 1 1 1 1 1 1 1 1 1 1 1 1 1 1 1 1 1 1 1 1 1 1 1 1 1 1 1\n",
      " 0 1 1 1 1 1 1 1 1 1 0 1 1 1 0 1 1 1 1 1 1 1 1 1 1 1 1 1 1 1 1 1 1 1 1 0 1\n",
      " 1 1 1 1 1 1 1 1 1 1 1 1 1 1 1 1 1 0 1 1 1 1 0 1 1 1 1 1 1 1 1 1 1 1 1 1 1\n",
      " 1 1 1 1 1 1 1 1 1 1 1 1 1 1 1 1 1 1 1 1 1 0 1 1 1 1 1 1 1 1]\n",
      "0.037 seconds\n"
     ]
    }
   ],
   "source": [
    "tick = time.time()\n",
    "y_pred = knn.predict(X_test)\n",
    "tock = time.time()\n",
    "\n",
    "print(y_pred)\n",
    "print(round(tock - tick, 5), 'seconds')"
   ]
  },
  {
   "cell_type": "code",
   "execution_count": 165,
   "id": "577f8fa3-d106-453d-af01-173957dcf048",
   "metadata": {},
   "outputs": [
    {
     "name": "stdout",
     "output_type": "stream",
     "text": [
      "[[182  18]\n",
      " [ 10 190]]\n"
     ]
    }
   ],
   "source": [
    "moz_moz = 0\n",
    "moz_sib = 0\n",
    "sib_moz = 0\n",
    "sib_sib = 0\n",
    "\n",
    "for i in range(len(y_test)):\n",
    "    if y_test[i] == 0 and y_pred[i] == 0:\n",
    "        moz_moz += 1\n",
    "    if y_test[i] == 0 and y_pred[i] == 1:\n",
    "        moz_sib += 1\n",
    "    if y_test[i] == 1 and y_pred[i] == 0:\n",
    "        sib_moz += 1\n",
    "    if y_test[i] == 1 and y_pred[i] == 1:\n",
    "        sib_sib += 1\n",
    "        \n",
    "conf_mat = np.array([[moz_moz, moz_sib], [sib_moz, sib_sib]])\n",
    "print(conf_mat)"
   ]
  },
  {
   "cell_type": "code",
   "execution_count": 166,
   "id": "b1889405-2c12-4120-a231-4109a499197e",
   "metadata": {},
   "outputs": [
    {
     "name": "stdout",
     "output_type": "stream",
     "text": [
      "0.93\n"
     ]
    }
   ],
   "source": [
    "from sklearn.neighbors import KNeighborsClassifier\n",
    "\n",
    "knc = KNeighborsClassifier(n_neighbors=5)\n",
    "knc.fit(X_train, y_train)\n",
    "\n",
    "y_pred = knc.predict(X_test)\n",
    "\n",
    "evaluatation = (y_pred == y_test).sum() / len(y_test)\n",
    "print(evaluatation)"
   ]
  },
  {
   "cell_type": "code",
   "execution_count": null,
   "id": "9a5b4b30-3b90-4320-8ec1-3949783b1bbb",
   "metadata": {},
   "outputs": [],
   "source": []
  },
  {
   "cell_type": "code",
   "execution_count": null,
   "id": "283cf3c7-b708-4462-ad63-36ddf57a2012",
   "metadata": {},
   "outputs": [],
   "source": []
  }
 ],
 "metadata": {
  "kernelspec": {
   "display_name": "Python 3",
   "language": "python",
   "name": "python3"
  },
  "language_info": {
   "codemirror_mode": {
    "name": "ipython",
    "version": 3
   },
   "file_extension": ".py",
   "mimetype": "text/x-python",
   "name": "python",
   "nbconvert_exporter": "python",
   "pygments_lexer": "ipython3",
   "version": "3.7.9"
  }
 },
 "nbformat": 4,
 "nbformat_minor": 5
}
