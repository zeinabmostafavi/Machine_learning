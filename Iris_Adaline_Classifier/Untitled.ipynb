{
 "cells": [
  {
   "cell_type": "code",
   "execution_count": 9,
   "id": "63eed497-e466-4e2d-a710-4f555d1e8961",
   "metadata": {},
   "outputs": [],
   "source": [
    "import numpy as np\n",
    "import pandas as pd\n",
    "import matplotlib.pyplot as plt\n",
    "from numpy.linalg import inv\n",
    "from sklearn.model_selection import train_test_split\n",
    "from sklearn.neighbors import KNeighborsClassifier\n",
    "from sklearn.datasets import load_iris"
   ]
  },
  {
   "cell_type": "code",
   "execution_count": 21,
   "id": "52686e7a-f9f3-4f3a-9de3-e7bdaf1b036f",
   "metadata": {},
   "outputs": [],
   "source": [
    "iris = load_iris()\n",
    "iris\n",
    "X = iris['data']\n",
    "Y = iris['target']\n",
    "X1 = X[1:100,:]\n",
    "Y1 = Y[1:100]\n",
    "X_train, X_test, Y_train, Y_test = train_test_split(X1, Y1, test_size=0.5, random_state=3)"
   ]
  },
  {
   "cell_type": "code",
   "execution_count": 22,
   "id": "78cca2b2-9a9c-48da-b7d8-14f666b7097f",
   "metadata": {},
   "outputs": [],
   "source": [
    "class KNearestNeighbors:\n",
    "    def __init__(self, k):\n",
    "        self.k = k\n",
    "        \n",
    "    def fit(self, X_train, Y_train):\n",
    "        self.X_train = X_train\n",
    "        self.Y_train = Y_train\n",
    "        self.number_class = len(np.unique(Y_train))\n",
    "        \n",
    "    def nearestNeighbors(self, X_test):\n",
    "        distance = np.sqrt(np.sum((X_test - self.X_train)**2, axis = 1))\n",
    "        near_neighbor = np.argsort(distance)[0:self.k]\n",
    "        return near_neighbor\n",
    "    \n",
    "    def predict(self, X_test):\n",
    "        self.X_test = X_test\n",
    "        y_predict=np.zeros(len(self.X_test))\n",
    "        for i, test in enumerate(self.X_test):\n",
    "            near_neighbor = self.nearestNeighbors(test)\n",
    "            y_predict[i] = np.argmax(np.bincount(self.Y_train[near_neighbor]))\n",
    "        return y_predict\n",
    "    \n",
    "    def evaluate(self, X_test, Y_test):\n",
    "        self.X_test = X_test\n",
    "        self.Y_test = Y_test\n",
    "        y_predict=self.predict(self.X_test)\n",
    "        evaluatation = (y_predict == self.Y_test).sum()/len(self.Y_test)\n",
    "        return evaluatation"
   ]
  },
  {
   "cell_type": "code",
   "execution_count": 23,
   "id": "a98ab7ab-591f-459d-a8c1-49b14335f7d4",
   "metadata": {},
   "outputs": [],
   "source": [
    "class AdalineClassifier:\n",
    "    def __init__(self):\n",
    "        pass\n",
    "    \n",
    "    def fit(self, X_train, Y_train):\n",
    "        self.w = np.matmul(inv(np.matmul(X_train.T, X_train)), np.matmul(X_train.T, Y_train))\n",
    "\n",
    "    def predict(self, X_test):\n",
    "        Y_predic = np.matmul(X_test, self.w)\n",
    "        return Y_predic\n",
    "    \n",
    "    def evaluation(self, X_test, Y_test):\n",
    "        Y_predic = np.matmul(X_test, self.w)\n",
    "        subtract = np.abs(Y_test - Y_predic)\n",
    "        \n",
    "        print('Y_test: ', Y_test)\n",
    "        print('Y_predic: ', Y_predic, '\\n')\n",
    "        \n",
    "        correct = 0\n",
    "        for i in range(len(Y_pred)):\n",
    "          if Y_test[i] == 0 and Y_pred[i] < 0.5:\n",
    "            correct += 1\n",
    "          if Y_test[i] == 1 and Y_pred[i] > 0.5:\n",
    "            correct += 1\n",
    "\n",
    "        average = np.mean(subtract)\n",
    "        acc = (correct * 100) / len(Y_test) / 100\n",
    "        return average, acc"
   ]
  },
  {
   "cell_type": "code",
   "execution_count": 24,
   "id": "de126a43-618b-4971-a6c6-13002f212ad9",
   "metadata": {},
   "outputs": [
    {
     "name": "stdout",
     "output_type": "stream",
     "text": [
      "Accuracy 1.0\n"
     ]
    }
   ],
   "source": [
    "knn = KNearestNeighbors(k=5)\n",
    "knn.fit(X_train,Y_train)\n",
    "knn_prediction = knn.predict(X_test)\n",
    "evaluatation = knn.evaluate(X_test, Y_test)\n",
    "print('Accuracy', evaluatation)"
   ]
  },
  {
   "cell_type": "code",
   "execution_count": 26,
   "id": "32eeeed0-c668-42a6-8934-51148e008665",
   "metadata": {},
   "outputs": [
    {
     "name": "stdout",
     "output_type": "stream",
     "text": [
      "Y_test:  [1 1 0 0 1 1 1 0 0 0 1 0 1 1 0 1 1 0 0 1 1 0 0 0 1 1 0 1 1 0 0 0 0 1 0 1 1\n",
      " 0 1 0 0 0 0 1 1 1 1 1 0 1]\n",
      "Y_predic:  [ 0.73460844  1.0599997  -0.00648363 -0.03644163  1.19828388  1.23783706\n",
      "  0.67691058 -0.04220674  0.07115603 -0.04985471  0.92298733 -0.03987115\n",
      "  1.21658596  0.9645711  -0.04125554  1.02661218  0.81078626  0.07297848\n",
      "  0.11674525  1.08485583  0.93709142 -0.07504611  0.00251609  0.03237618\n",
      "  0.74648954  1.10045441  0.02096341  0.99464169  0.85988495  0.11526295\n",
      " -0.00403794 -0.13493184 -0.12308101  0.91448857 -0.00645099  0.81464897\n",
      "  0.90217428 -0.12391962  1.02366553 -0.01009102 -0.02427257 -0.05365215\n",
      " -0.08291677  0.86885204  0.9858222   0.90533144  1.11718206  1.15359368\n",
      " -0.00662886  0.90774448] \n",
      "\n",
      "evaluation=  0.09130355315785713  Accuracy=  1.0\n"
     ]
    }
   ],
   "source": [
    "model = AdalineClassifier()\n",
    "model.fit(X_train, Y_train)\n",
    "Y_pred = model.predict(X_test)\n",
    "result = model.evaluation(X_test, Y_test)\n",
    "print('evaluation= ',result[0],' Accuracy= ',result[1])"
   ]
  },
  {
   "cell_type": "code",
   "execution_count": null,
   "id": "bff100ed-0b91-45c2-8fa8-771e6b16da45",
   "metadata": {},
   "outputs": [],
   "source": []
  }
 ],
 "metadata": {
  "kernelspec": {
   "display_name": "Python 3",
   "language": "python",
   "name": "python3"
  },
  "language_info": {
   "codemirror_mode": {
    "name": "ipython",
    "version": 3
   },
   "file_extension": ".py",
   "mimetype": "text/x-python",
   "name": "python",
   "nbconvert_exporter": "python",
   "pygments_lexer": "ipython3",
   "version": "3.7.9"
  }
 },
 "nbformat": 4,
 "nbformat_minor": 5
}
